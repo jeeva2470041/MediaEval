{
 "cells": [
  {
   "cell_type": "code",
   "execution_count": null,
   "id": "6e31b5ce-56b2-476e-9caf-baa1f1dde34e",
   "metadata": {},
   "outputs": [],
   "source": [
    "from diffusers import StableDiffusionXLPipeline\n",
    "import torch, os\n",
    "from PIL import Image, PngImagePlugin\n",
    "import pandas as pd\n",
    "\n",
    "# Load the dataset\n",
    "df = pd.read_csv(\"newsarticles.csv\", dtype=str).iloc[:8500]\n",
    "\n",
    "group = \"ELITE_CODERS\"\n",
    "approach = \"SDXL\"\n",
    "out_dir = f\"{group}/GEN_{approach}_LARGE\"\n",
    "os.makedirs(out_dir, exist_ok=True)\n",
    "\n",
    "# Load Stable Diffusion XL\n",
    "model_id = \"stabilityai/stable-diffusion-xl-base-1.0\"\n",
    "pipe = StableDiffusionXLPipeline.from_pretrained(\n",
    "    model_id,\n",
    "    torch_dtype=torch.float16 if torch.cuda.is_available() else torch.float32\n",
    ")\n",
    "pipe = pipe.to(\"cuda\" if torch.cuda.is_available() else \"cpu\")\n",
    "\n",
    "# Resize helper\n",
    "def resize_img(img):\n",
    "    return img.resize((460, 260), Image.LANCZOS)\n",
    "\n",
    "# Function to truncate prompt within 77 tokens for CLIP\n",
    "def make_prompt(title, tags):\n",
    "    title = title[:70]  # first 70 chars\n",
    "    tags = \", \".join(str(tags).split(',')[:3])  # first 3 tags\n",
    "    return f\"Editorial news photo illustrating: {title}. Keywords: {tags}. Realistic photojournalism, no text, no watermark.\"\n",
    "\n",
    "# Generate images\n",
    "for idx, row in df.iterrows():\n",
    "    article_id = row['article_id']\n",
    "    prompt = make_prompt(row['article_title'], row['article_tags'])\n",
    "\n",
    "    try:\n",
    "        image = pipe(prompt, num_inference_steps=25, guidance_scale=7.5).images[0]\n",
    "        image = resize_img(image)\n",
    "\n",
    "        meta = PngImagePlugin.PngInfo()\n",
    "        meta.add_text(\"prompt\", prompt)\n",
    "        fname = f\"{article_id}_{group}_{approach}.png\"\n",
    "        image.save(os.path.join(out_dir, fname), pnginfo=meta)\n",
    "\n",
    "        if idx % 50 == 0:\n",
    "            print(f\"Generated {idx}/{len(df)}\")\n",
    "\n",
    "    except Exception as e:\n",
    "        print(f\"Image {article_id} failed: {e}\")\n",
    "        continue"
   ]
  }
 ],
 "metadata": {
  "kernelspec": {
   "display_name": "Python 3 (ipykernel)",
   "language": "python",
   "name": "python3"
  },
  "language_info": {
   "codemirror_mode": {
    "name": "ipython",
    "version": 3
   },
   "file_extension": ".py",
   "mimetype": "text/x-python",
   "name": "python",
   "nbconvert_exporter": "python",
   "pygments_lexer": "ipython3",
   "version": "3.13.2"
  }
 },
 "nbformat": 4,
 "nbformat_minor": 5
}
